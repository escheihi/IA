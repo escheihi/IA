{
 "cells": [
  {
   "cell_type": "markdown",
   "metadata": {},
   "source": [
    "# Notebook 2:  Clustering con GMM y Algoritmos Jerárquicos\n",
    "\n",
    "En este notebook vamos a implementar el algoritmo de clustering de Mezcla de Normales en R. El objetivo es entender como funciona este algoritmo y  aprender a utilizarlo con un ejemplo simple. Se incluye además la estrategia para definir el número de grupos k. Al final se propone un ejercicio con nuevos datos, con el fin de aprender a utilizar el algoritmo. "
   ]
  },
  {
   "cell_type": "code",
   "execution_count": 34,
   "metadata": {},
   "outputs": [
    {
     "data": {
      "text/plain": [
       "     WATER          PROTEIN            FAT           LACTOSE     \n",
       " Min.   :44.90   Min.   : 0.600   Min.   : 1.00   Min.   :0.000  \n",
       " 1st Qu.:71.30   1st Qu.: 3.000   1st Qu.: 3.40   1st Qu.:2.700  \n",
       " Median :82.00   Median : 5.900   Median : 6.30   Median :4.700  \n",
       " Mean   :78.18   Mean   : 6.212   Mean   :10.31   Mean   :4.132  \n",
       " 3rd Qu.:87.70   3rd Qu.: 9.700   3rd Qu.:13.10   3rd Qu.:5.600  \n",
       " Max.   :90.40   Max.   :12.300   Max.   :42.00   Max.   :6.900  \n",
       "      ASH        \n",
       " Min.   :0.1000  \n",
       " 1st Qu.:0.5300  \n",
       " Median :0.8000  \n",
       " Mean   :0.8632  \n",
       " 3rd Qu.:1.1000  \n",
       " Max.   :2.3000  "
      ]
     },
     "metadata": {},
     "output_type": "display_data"
    }
   ],
   "source": [
    "library(mclust)\n",
    "library(cluster)\n",
    "#ruta datos\n",
    "#lee datos del archivo de texto como una matriz. La primera #columna se utiliza como vector de nombres de las filas\n",
    "datos <-read.table(\"c:\\\\milk.dat\",row.names=1,dec=\".\",header=TRUE)\n",
    "summary(datos)"
   ]
  },
  {
   "cell_type": "code",
   "execution_count": 31,
   "metadata": {
    "scrolled": true
   },
   "outputs": [
    {
     "data": {
      "text/plain": [
       "---------------------------------------------------- \n",
       "Gaussian finite mixture model fitted by EM algorithm \n",
       "---------------------------------------------------- \n",
       "\n",
       "Mclust VEV (ellipsoidal, equal shape) model with 4 components: \n",
       "\n",
       " log.likelihood  n df       BIC       ICL\n",
       "      -129.0138 25 71 -486.5678 -486.5782\n",
       "\n",
       "Clustering table:\n",
       "1 2 3 4 \n",
       "5 8 7 5 "
      ]
     },
     "metadata": {},
     "output_type": "display_data"
    },
    {
     "data": {
      "text/plain": [
       "'Mclust' model object: (VEV,4) \n",
       "\n",
       "Available components: \n",
       " [1] \"call\"           \"data\"           \"modelName\"      \"n\"             \n",
       " [5] \"d\"              \"G\"              \"BIC\"            \"bic\"           \n",
       " [9] \"loglik\"         \"df\"             \"hypvol\"         \"parameters\"    \n",
       "[13] \"z\"              \"classification\" \"uncertainty\"   "
      ]
     },
     "metadata": {},
     "output_type": "display_data"
    },
    {
     "data": {
      "text/html": [
       "<table>\n",
       "<thead><tr><th scope=col>WATER</th><th scope=col>PROTEIN</th><th scope=col>FAT</th><th scope=col>LACTOSE</th><th scope=col>ASH</th></tr></thead>\n",
       "<tbody>\n",
       "\t<tr><td>89.45999 </td><td> 1.980001</td><td> 2.080005</td><td>6.200009 </td><td>0.3279979</td></tr>\n",
       "\t<tr><td>71.88271 </td><td> 7.298580</td><td>15.881214</td><td>3.088610 </td><td>0.7512686</td></tr>\n",
       "\t<tr><td>84.71493 </td><td> 4.756873</td><td> 4.756149</td><td>5.100211 </td><td>0.8185953</td></tr>\n",
       "\t<tr><td>67.86000 </td><td>10.740002</td><td>17.380003</td><td>2.379999 </td><td>1.6400005</td></tr>\n",
       "</tbody>\n",
       "</table>\n"
      ],
      "text/latex": [
       "\\begin{tabular}{lllll}\n",
       " WATER & PROTEIN & FAT & LACTOSE & ASH\\\\\n",
       "\\hline\n",
       "\t 89.45999  &  1.980001 &  2.080005 & 6.200009  & 0.3279979\\\\\n",
       "\t 71.88271  &  7.298580 & 15.881214 & 3.088610  & 0.7512686\\\\\n",
       "\t 84.71493  &  4.756873 &  4.756149 & 5.100211  & 0.8185953\\\\\n",
       "\t 67.86000  & 10.740002 & 17.380003 & 2.379999  & 1.6400005\\\\\n",
       "\\end{tabular}\n"
      ],
      "text/markdown": [
       "\n",
       "WATER | PROTEIN | FAT | LACTOSE | ASH | \n",
       "|---|---|---|---|\n",
       "| 89.45999  |  1.980001 |  2.080005 | 6.200009  | 0.3279979 | \n",
       "| 71.88271  |  7.298580 | 15.881214 | 3.088610  | 0.7512686 | \n",
       "| 84.71493  |  4.756873 |  4.756149 | 5.100211  | 0.8185953 | \n",
       "| 67.86000  | 10.740002 | 17.380003 | 2.379999  | 1.6400005 | \n",
       "\n",
       "\n"
      ],
      "text/plain": [
       "     WATER    PROTEIN   FAT       LACTOSE  ASH      \n",
       "[1,] 89.45999  1.980001  2.080005 6.200009 0.3279979\n",
       "[2,] 71.88271  7.298580 15.881214 3.088610 0.7512686\n",
       "[3,] 84.71493  4.756873  4.756149 5.100211 0.8185953\n",
       "[4,] 67.86000 10.740002 17.380003 2.379999 1.6400005"
      ]
     },
     "metadata": {},
     "output_type": "display_data"
    },
    {
     "data": {
      "text/html": [
       "<dl class=dl-horizontal>\n",
       "\t<dt>HORSE</dt>\n",
       "\t\t<dd>1</dd>\n",
       "\t<dt>ORANGUTAN</dt>\n",
       "\t\t<dd>1</dd>\n",
       "\t<dt>MONKEY</dt>\n",
       "\t\t<dd>1</dd>\n",
       "\t<dt>DONKEY</dt>\n",
       "\t\t<dd>1</dd>\n",
       "\t<dt>HIPPO</dt>\n",
       "\t\t<dd>2</dd>\n",
       "\t<dt>CAMEL</dt>\n",
       "\t\t<dd>3</dd>\n",
       "\t<dt>BISON</dt>\n",
       "\t\t<dd>3</dd>\n",
       "\t<dt>BUFFALO</dt>\n",
       "\t\t<dd>3</dd>\n",
       "\t<dt>GUINEA_PIG</dt>\n",
       "\t\t<dd>2</dd>\n",
       "\t<dt>CAT</dt>\n",
       "\t\t<dd>2</dd>\n",
       "\t<dt>FOX</dt>\n",
       "\t\t<dd>3</dd>\n",
       "\t<dt>LLAMA</dt>\n",
       "\t\t<dd>3</dd>\n",
       "\t<dt>MULE</dt>\n",
       "\t\t<dd>1</dd>\n",
       "\t<dt>PIG</dt>\n",
       "\t\t<dd>2</dd>\n",
       "\t<dt>ZEBRA</dt>\n",
       "\t\t<dd>3</dd>\n",
       "\t<dt>SHEEP</dt>\n",
       "\t\t<dd>3</dd>\n",
       "\t<dt>DOG</dt>\n",
       "\t\t<dd>2</dd>\n",
       "\t<dt>ELEPHANT</dt>\n",
       "\t\t<dd>2</dd>\n",
       "\t<dt>RABBIT</dt>\n",
       "\t\t<dd>4</dd>\n",
       "\t<dt>RAT</dt>\n",
       "\t\t<dd>4</dd>\n",
       "\t<dt>DEER</dt>\n",
       "\t\t<dd>4</dd>\n",
       "\t<dt>REINDEER</dt>\n",
       "\t\t<dd>4</dd>\n",
       "\t<dt>WHALE</dt>\n",
       "\t\t<dd>4</dd>\n",
       "\t<dt>SEAL</dt>\n",
       "\t\t<dd>2</dd>\n",
       "\t<dt>DOLPHIN</dt>\n",
       "\t\t<dd>2</dd>\n",
       "</dl>\n"
      ],
      "text/latex": [
       "\\begin{description*}\n",
       "\\item[HORSE] 1\n",
       "\\item[ORANGUTAN] 1\n",
       "\\item[MONKEY] 1\n",
       "\\item[DONKEY] 1\n",
       "\\item[HIPPO] 2\n",
       "\\item[CAMEL] 3\n",
       "\\item[BISON] 3\n",
       "\\item[BUFFALO] 3\n",
       "\\item[GUINEA\\textbackslash{}\\_PIG] 2\n",
       "\\item[CAT] 2\n",
       "\\item[FOX] 3\n",
       "\\item[LLAMA] 3\n",
       "\\item[MULE] 1\n",
       "\\item[PIG] 2\n",
       "\\item[ZEBRA] 3\n",
       "\\item[SHEEP] 3\n",
       "\\item[DOG] 2\n",
       "\\item[ELEPHANT] 2\n",
       "\\item[RABBIT] 4\n",
       "\\item[RAT] 4\n",
       "\\item[DEER] 4\n",
       "\\item[REINDEER] 4\n",
       "\\item[WHALE] 4\n",
       "\\item[SEAL] 2\n",
       "\\item[DOLPHIN] 2\n",
       "\\end{description*}\n"
      ],
      "text/markdown": [
       "HORSE\n",
       ":   1ORANGUTAN\n",
       ":   1MONKEY\n",
       ":   1DONKEY\n",
       ":   1HIPPO\n",
       ":   2CAMEL\n",
       ":   3BISON\n",
       ":   3BUFFALO\n",
       ":   3GUINEA_PIG\n",
       ":   2CAT\n",
       ":   2FOX\n",
       ":   3LLAMA\n",
       ":   3MULE\n",
       ":   1PIG\n",
       ":   2ZEBRA\n",
       ":   3SHEEP\n",
       ":   3DOG\n",
       ":   2ELEPHANT\n",
       ":   2RABBIT\n",
       ":   4RAT\n",
       ":   4DEER\n",
       ":   4REINDEER\n",
       ":   4WHALE\n",
       ":   4SEAL\n",
       ":   2DOLPHIN\n",
       ":   2\n",
       "\n"
      ],
      "text/plain": [
       "     HORSE  ORANGUTAN     MONKEY     DONKEY      HIPPO      CAMEL      BISON \n",
       "         1          1          1          1          2          3          3 \n",
       "   BUFFALO GUINEA_PIG        CAT        FOX      LLAMA       MULE        PIG \n",
       "         3          2          2          3          3          1          2 \n",
       "     ZEBRA      SHEEP        DOG   ELEPHANT     RABBIT        RAT       DEER \n",
       "         3          3          2          2          4          4          4 \n",
       "  REINDEER      WHALE       SEAL    DOLPHIN \n",
       "         4          4          2          2 "
      ]
     },
     "metadata": {},
     "output_type": "display_data"
    }
   ],
   "source": [
    "clus <-Mclust(datos, G=4)\n",
    "summary(clus)\n",
    "clus\n",
    "\n",
    "cl <- clus$classification\n",
    "centers <- t(clus$parameters$mean)\n",
    "centers\n",
    "cl\n",
    "\n"
   ]
  },
  {
   "cell_type": "markdown",
   "metadata": {},
   "source": [
    "Ejercicio 1: \n",
    "a) Explique como funciona el método Mclust, describa parámetros de entrada y salida.\n",
    "b) Interprete y comente los resultados obtenidos. "
   ]
  },
  {
   "cell_type": "code",
   "execution_count": 32,
   "metadata": {},
   "outputs": [
    {
     "data": {
      "image/png": "[encoded data removed]",
      "text/plain": [
       "plot without title"
      ]
     },
     "metadata": {},
     "output_type": "display_data"
    }
   ],
   "source": [
    "#Análisis de Componentes Principales para graficar los grupos obtenidos\n",
    "#Calcula plano de componentes principales y grafica las observaciones con el número de su grupo\n",
    "res <- princomp(datos, cor=TRUE)\n",
    "res2 <- predict(res,centers)\n",
    "\n",
    "biplot(res,xlabs=cl)\n",
    "#grafica los centros de cada grupo en el plano de componentes principales utilizando colores distintos\n",
    "points(res2[,1:2],col=1:9,pch=19)\n"
   ]
  },
  {
   "cell_type": "markdown",
   "metadata": {},
   "source": [
    "Ejercicio 2: Repita el procedimiento considerando 2, 3 y 4 grupos. Discuta y compare  sus resultados con aquellos obtenidos con k-means"
   ]
  },
  {
   "cell_type": "markdown",
   "metadata": {},
   "source": [
    "En lo que sigue, utilizaremos el método hclust, que permite realizar análisis de agrupamiento jerárquico"
   ]
  },
  {
   "cell_type": "code",
   "execution_count": 35,
   "metadata": {},
   "outputs": [
    {
     "data": {
      "image/png": "[encoded data removed]",
      "text/plain": [
       "plot without title"
      ]
     },
     "metadata": {},
     "output_type": "display_data"
    }
   ],
   "source": [
    "res3 <- hclust(dist(datos))\n",
    "biplot(res, xlabs= cutree(res3,4))"
   ]
  },
  {
   "cell_type": "code",
   "execution_count": null,
   "metadata": {},
   "outputs": [],
   "source": [
    "Ejercicio 3: \n",
    "a) Explique como funciona el método hclust, describa parámetros de entrada y salida.\n",
    "b) Interprete y comente los resultados obtenidos. \n",
    "c) Utilice otros parámetros en hclust y discuta como varían los resultados. "
   ]
  },
  {
   "cell_type": "code",
   "execution_count": null,
   "metadata": {},
   "outputs": [],
   "source": [
    "Ejercicio 4: \n",
    "a) Realice un análisis de clustering con Kmeans, GMM y Análisis Jerárquico para el conjunto de datos iris.csv\n",
    "Interprete sus resultados.\n",
    "b) Calcule alguna de las medidas de calidad estudiadas (purity, rand index o mutual information) \n",
    "para cada uno de los análisis realizado en (a). Discuta sus resultados."
   ]
  }
 ],
 "metadata": {
  "celltoolbar": "Raw Cell Format",
  "kernelspec": {
   "display_name": "R",
   "language": "R",
   "name": "ir"
  },
  "language_info": {
   "codemirror_mode": "r",
   "file_extension": ".r",
   "mimetype": "text/x-r-source",
   "name": "R",
   "pygments_lexer": "r",
   "version": "3.5.1"
  }
 },
 "nbformat": 4,
 "nbformat_minor": 2
}
